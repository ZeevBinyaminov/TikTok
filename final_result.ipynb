{
 "cells": [
  {
   "cell_type": "code",
   "execution_count": null,
   "metadata": {},
   "outputs": [],
   "source": [
    "# Установка библиотек (в случае, если ранее они не были установлены)\n",
    "!pip install bs4 pandas requests selenium"
   ]
  },
  {
   "cell_type": "code",
   "execution_count": 34,
   "metadata": {},
   "outputs": [],
   "source": [
    "import time\n",
    "import re\n",
    "import requests\n",
    "from bs4 import BeautifulSoup\n",
    "import pandas as pd\n",
    "import selenium\n",
    "from selenium import webdriver\n",
    "from selenium.webdriver.chrome.service import Service\n",
    "\n",
    "# путь к вебдрайверу\n",
    "# PATH = b\"C:\\Users\\zzbin\\Desktop\\Google Chrome\\chromedriver.exe\"\n",
    "PATH = input() \n",
    "service = Service(PATH)\n",
    "driver = webdriver.Chrome(service=service)\n"
   ]
  },
  {
   "cell_type": "code",
   "execution_count": 35,
   "metadata": {},
   "outputs": [
    {
     "name": "stdout",
     "output_type": "stream",
     "text": [
      "Такого аккаунта не существует либо он был введен неверно.\n",
      "Попробуйте еще раз\n"
     ]
    }
   ],
   "source": [
    "account_name = input('Введите название интересуещего аккаунта')\n",
    "# driver.get('https://www.tiktok.com/@chef_kostya')\n",
    "\n",
    "# проверка на существование аккаунта\n",
    "headers = {'user-agent': 'Mozilla/5.0 (Windows NT 10.0; Win64; x64) AppleWebKit/537.36 (KHTML, like Gecko) Chrome/98.0.4758.141 YaBrowser/22.3.2.644'}\n",
    "resp = requests.get('https://www.tiktok.com/@' + account_name, headers=headers)\n",
    "while not resp.ok:\n",
    "    print('Такого аккаунта не существует либо он был введен неверно.\\nПопробуйте еще раз')\n",
    "    account_name = input()\n",
    "    resp = requests.get('https://www.tiktok.com/@' + account_name, headers=headers)\n",
    "    \n",
    "\n",
    "# открываем сайт \n",
    "driver.get('https://www.tiktok.com/@' + account_name)\n",
    "\n",
    "last_height = driver.execute_script(\"return document.body.scrollHeight\")\n",
    "\n",
    "for i in range(18):\n",
    "    # Скроллим вниз по странице\n",
    "    driver.execute_script(\"window.scrollTo(0, document.body.scrollHeight);\")\n",
    "\n",
    "    # Ждем, пока страницы прогрузится полностью\n",
    "    time.sleep(1.5)\n",
    "\n",
    "    # Считает новую высоту скроллинга (положение страницы) со старой\n",
    "    new_height = driver.execute_script(\"return document.body.scrollHeight\")\n",
    "    # если это конец страницы, перестает скроллить \n",
    "    if new_height == last_height:\n",
    "        break\n",
    "    last_height = new_height\n",
    "    \n",
    "html = driver.page_source\n",
    "driver.quit()"
   ]
  },
  {
   "cell_type": "code",
   "execution_count": null,
   "metadata": {},
   "outputs": [],
   "source": [
    "soup = BeautifulSoup(html, 'lxml')\n",
    "links_list = list(map(lambda x: x.get('href'), soup.find_all('a', {'href': lambda x: x.startswith('https://www.tiktok.com/@')})))\n",
    "\n",
    "def decode_number(number):\n",
    "    if 'K' in number:\n",
    "        return int(float(number.replace('K', '')) * 1_000)\n",
    "    elif 'M' in number:\n",
    "        return int(float(number.replace('M', '')) * 1_000_000)\n",
    "    return int(number)\n",
    "video_views =  list(map(lambda x: decode_number(x.text), soup.find_all('strong', {'data-e2e': 'video-views'})))\n",
    "\n",
    "def get_all_info(links):\n",
    "    headers = {'user-agent': 'Mozilla/5.0 (Windows NT 10.0; Win64; x64) AppleWebKit/537.36 (KHTML, like Gecko) Chrome/98.0.4758.141 YaBrowser/22.3.2.644'}\n",
    "    dates_list, likes_list, comments_list, reposts_list, videos_text_list = [], [], [], [], []\n",
    "    \n",
    "    def get_info_by_link(url):\n",
    "        resp = requests.get(url, headers=headers)\n",
    "        resp.encoding = 'utf-8'\n",
    "        soup = BeautifulSoup(resp.text, 'lxml')\n",
    "        \n",
    "        likes = soup.find('strong', {'data-e2e':\"like-count\"}).text\n",
    "        comments = soup.find('strong', {'data-e2e':\"comment-count\"}).text\n",
    "        reposts = soup.find('strong', {'data-e2e':\"share-count\"}).text\n",
    "        \n",
    "        date = soup.find('a', class_='tiktok-1wozk2e-StyledAuthorAnchor e1aily491')\n",
    "        date = '.'.join(re.findall(r'\\d+', date.text)) \n",
    "        video_text = re.findall(r'(.+)TikTokUpload', soup.text)[0].strip()\n",
    "        return date, likes, comments, reposts, video_text\n",
    "    \n",
    "    for link in links:      \n",
    "        info = get_info_by_link(link)\n",
    "        dates_list.append(info[0])\n",
    "        likes_list.append(info[1])\n",
    "        comments_list.append(info[2])\n",
    "        reposts_list.append(info[3])\n",
    "        videos_text_list.append(info[4])\n",
    "        \n",
    "    likes_list = list(map(lambda x: decode_number(x), likes_list))\n",
    "    comments_list = list(map(lambda x: decode_number(x), comments_list))\n",
    "    reposts_list = list(map(lambda x: decode_number(x), reposts_list))\n",
    "    return dates_list, likes_list, comments_list, reposts_list, videos_text_list\n",
    "\n",
    "dates_list, likes_list, comments_list, reposts_list, videos_text_list = get_all_info(links_list)\n",
    "info = {'link':links_list, 'views': video_views, 'date': dates_list, 'comments': comments_list, 'reposts': reposts_list, 'video_text': videos_text_list}\n",
    "\n",
    "df = pd.DataFrame(info)\n",
    "df['date'] = df['date'].apply(lambda x: time.ctime().split()[-1] + '.' + x if not re.match(r'\\d{4}\\.\\d{1,2}\\.\\d{1,2}', x) else x)\n"
   ]
  },
  {
   "cell_type": "code",
   "execution_count": null,
   "metadata": {},
   "outputs": [],
   "source": [
    "df"
   ]
  },
  {
   "cell_type": "code",
   "execution_count": null,
   "metadata": {},
   "outputs": [],
   "source": [
    "filepath = input()\n",
    "filename = input()\n",
    "df.to_excel(f\"{filepath + filename}.xlsx\") "
   ]
  },
  {
   "cell_type": "code",
   "execution_count": null,
   "metadata": {},
   "outputs": [],
   "source": []
  },
  {
   "cell_type": "code",
   "execution_count": null,
   "metadata": {},
   "outputs": [],
   "source": []
  },
  {
   "cell_type": "code",
   "execution_count": null,
   "metadata": {},
   "outputs": [],
   "source": []
  }
 ],
 "metadata": {
  "interpreter": {
   "hash": "efb997ee186e38d2e70e320b7a54f5a878d720dada3d3f37df20b4604e05a5dd"
  },
  "kernelspec": {
   "display_name": "Python 3.8.5",
   "language": "python",
   "name": "python3"
  },
  "language_info": {
   "codemirror_mode": {
    "name": "ipython",
    "version": 3
   },
   "file_extension": ".py",
   "mimetype": "text/x-python",
   "name": "python",
   "nbconvert_exporter": "python",
   "pygments_lexer": "ipython3",
   "version": "3.8.5"
  },
  "orig_nbformat": 4
 },
 "nbformat": 4,
 "nbformat_minor": 2
}
